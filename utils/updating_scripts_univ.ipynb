{
 "cells": [
  {
   "cell_type": "code",
   "execution_count": 35,
   "metadata": {},
   "outputs": [],
   "source": [
    "import os, sys\n",
    "import rasterio as rio\n",
    "import numpy as np\n",
    "import geopandas as gpd\n",
    "import pandas as pd\n",
    "\n",
    "sys.path.append('/uio/kant/geo-ceed-u1/nilscp/Nils/Python/utils')\n",
    "import raster\n",
    "\n",
    "from shapely.geometry import Point"
   ]
  },
  {
   "cell_type": "markdown",
   "metadata": {},
   "source": [
    "- selection crater\n",
    "- get centroid\n",
    "- get old coordinate systems\n",
    "- project to new coordinate system (equirectangular based on lon, lat) (centroid), I guess I have to do that for \n",
    "- apply buffer to the centroid\n",
    "- feature to envelope to polygon (make a square from the buffered geometry)\n",
    "- reproject to old coordinate systems\n",
    "- clip based on the bounding box / geometry\n",
    "- convert to ascii (but maybe not necessary with this new code)"
   ]
  },
  {
   "cell_type": "code",
   "execution_count": 2,
   "metadata": {},
   "outputs": [],
   "source": [
    "path = \"/run/media/nilscp/pampa/ANALYSIS/SIMPLECRATERS_MOON/SLDEM_2015_LARGE_CRATERS/layers\"\n",
    "filename = os.path.join(path, 'rayed_craters.shp')"
   ]
  },
  {
   "cell_type": "code",
   "execution_count": 3,
   "metadata": {},
   "outputs": [],
   "source": [
    "# reading the shape file (craters)\n",
    "df = gpd.read_file(filename)"
   ]
  },
  {
   "cell_type": "code",
   "execution_count": 45,
   "metadata": {},
   "outputs": [],
   "source": [
    "# For SLDEM2015\n",
    "\n",
    "path_raster = '/uio/kant/geo-ceed-u1/nilscp/Desktop/lunaspec/SLDEM2015'\n",
    "in_raster = os.path.join(path_raster, 'Lunar_LRO_LrocKaguya_DEMmerge_60N60S_512ppd.tif')\n",
    "cliptype = 'geojson'\n",
    "\n",
    "with rio.open(in_raster) as src:\n",
    "    crs_wkt_src = src.crs.to_wkt()\n",
    "    \n",
    "for i in range(10,12):\n",
    "    \n",
    "    dict_crater = {'geometry': [df.geometry.loc[i]], 'index': [0]}\n",
    "    dataframe_crater = pd.DataFrame(dict_crater)\n",
    "    geodataframe_crater = gpd.GeoDataFrame(dataframe_crater, geometry=dataframe_crater.geometry)\n",
    "    geodataframe_crater.crs = df.crs\n",
    "    \n",
    "    geom_geoseries = gpd.GeoSeries(geodataframe_crater.geometry)\n",
    "    geom_geoseries.crs = df.crs\n",
    "    \n",
    "    centroids = geom_geoseries.centroid\n",
    "    new_crs = df.crs.copy()\n",
    "    new_crs['lat_ts'] = int(df.y_coord.loc[i])\n",
    "\n",
    "    # get new coordinate system (this does not work yet)\n",
    "    crs_wkt_dst = raster.crs_eqc(crs_wkt_src, df.y_coord.loc[i])\n",
    "    \n",
    "    # Change coordinates of centroids\n",
    "    centroids_eq = centroids.to_crs(new_crs)\n",
    "    \n",
    "    # Does it make the buffer from the polygon? I do specifically \n",
    "    buffer_array = centroids_eq.buffer((df.Diam_km.loc[i]*0.5)*1500.0) # I will go for 0.75\n",
    "    envelope_array = buffer_array.envelope\n",
    "    envelope_global = envelope_array.to_crs(df.crs)\n",
    "    \n",
    "    tmp = envelope_global.__geo_interface__ \n",
    "    in_polygon = [tmp['features'][0]['geometry']]\n",
    "    \n",
    "    # clip\n",
    "    fname_raster_clip = 'crater' + str(i).zfill(4) + '_clip.tif'\n",
    "    clipped_raster = os.path.join(path_raster, fname_raster_clip)\n",
    "    raster.clip_advanced(in_raster, in_polygon, cliptype, clipped_raster)\n",
    "    \n",
    "    # reproject\n",
    "    fname_raster_reproj = 'crater' + str(i).zfill(4) + '.tif'\n",
    "    reproj_raster = os.path.join(path_raster, fname_raster_reproj)\n",
    "    \n",
    "    # something to remember: the reprojection cause the raster to not have the resolution\n",
    "    # there are two solutions: 1) work with rasters of different resolution or 2) downscale the raster\n",
    "    # but you will miss some of the data...\n",
    "    # doing 1) would be mean to change quite lot of the scripts previously written\n",
    "    # but I don't think this is a problem for the mineralogical map.\n",
    "    # the only question if I would have better detailed results with \"native resolution\"\n",
    "    raster.reproject(clipped_raster, crs_wkt_dst, reproj_raster)   "
   ]
  },
  {
   "cell_type": "code",
   "execution_count": 34,
   "metadata": {},
   "outputs": [],
   "source": [
    "# Olivine\n",
    "\n",
    "path_raster = '/uio/kant/geo-ceed-u1/nilscp/Desktop/lunaspec/SLDEM2015'\n",
    "in_raster = os.path.join(path_raster, 'Lunar_LRO_LrocKaguya_DEMmerge_60N60S_512ppd.tif')\n",
    "cliptype = 'geojson'\n",
    "\n",
    "path_mineralogy = '/uio/kant/geo-ceed-u1/nilscp/Desktop/astra/Moon/Kaguya_mineralogy/'\n",
    "in_raster_miner = os.path.join(path_mineralogy, 'Lunar_Kaguya_MIMap_MineralDeconv_OlivinePercent_50N50S_clip.tif')\n",
    "paths = '/run/media/nilscp/pampa/ANALYSIS/SIMPLECRATERS_MOON/SLDEM_2015_LARGE_CRATERS/ascii_olivine/'\n",
    "\n",
    "with rio.open(in_raster) as src:\n",
    "    crs_wkt_src = src.crs.to_wkt()\n",
    "    \n",
    "with rio.open(in_raster_miner) as src:\n",
    "    crs_wkt_src_miner = src.crs.to_wkt()\n",
    "    \n",
    "# reproject main raster\n",
    "#raster.reproject(in_raster_miner, crs_wkt_src, out_raster_miner)\n",
    "#out_raster_miner = os.path.join(path_mineralogy, 'Lunar_Kaguya_MIMap_MineralDeconv_OlivinePercent_50N50S_reproj.tif')\n",
    "   \n",
    "for i in range(df.shape[0]):\n",
    "    \n",
    "    if ((df.loc[i,'y_coord'] >= 50.0) or (df.loc[i,'y_coord'] <= -50.0)):\n",
    "        None\n",
    "    else:   \n",
    "        dict_crater = {'geometry': [df.geometry.loc[i]], 'index': [0]}\n",
    "        dataframe_crater = pd.DataFrame(dict_crater)\n",
    "        geodataframe_crater = gpd.GeoDataFrame(dataframe_crater, geometry=dataframe_crater.geometry)\n",
    "        geodataframe_crater.crs = df.crs\n",
    "\n",
    "        geom_geoseries = gpd.GeoSeries(geodataframe_crater.geometry)\n",
    "        geom_geoseries.crs = df.crs\n",
    "\n",
    "        centroids = geom_geoseries.centroid\n",
    "        new_crs = df.crs.copy()\n",
    "        new_crs['lat_ts'] = int(df.y_coord.loc[i])\n",
    "\n",
    "        # get new coordinate system \n",
    "        crs_wkt_dst = raster.crs_eqc(crs_wkt_src, df.y_coord.loc[i])\n",
    "\n",
    "        # Change coordinates of centroids\n",
    "        centroids_eq = centroids.to_crs(new_crs)\n",
    "\n",
    "        # Does it make the buffer from the polygon? I do specifically \n",
    "        buffer_array = centroids_eq.buffer((df.Diam_km.loc[i]*0.5)*1500.0) # I will go for 0.75\n",
    "        envelope_array = buffer_array.envelope\n",
    "        envelope_global = envelope_array.to_crs(df.crs) #df.crs\n",
    "\n",
    "        tmp = envelope_global.__geo_interface__ \n",
    "        in_polygon = [tmp['features'][0]['geometry']]\n",
    "\n",
    "        # clip\n",
    "        fname_raster_clip = 'crater' + str(i).zfill(4) + '_clip.tif'\n",
    "        clipped_raster = os.path.join(paths, fname_raster_clip)\n",
    "        raster.clip_advanced(in_raster_miner, in_polygon, cliptype, clipped_raster)\n",
    "\n",
    "        # reproject\n",
    "        fname_raster_reproj = 'crater' + str(i).zfill(4) + '.tif'\n",
    "        reproj_raster = os.path.join(paths, fname_raster_reproj)\n",
    "\n",
    "        # something to remember: the reprojection cause the raster to not have the resolution\n",
    "        # there are two solutions: 1) work with rasters of different resolution or 2) downscale the raster\n",
    "        # but you will miss some of the data...\n",
    "        # doing 1) would be mean to change quite lot of the scripts previously written\n",
    "        # but I don't think this is a problem for the mineralogical map.\n",
    "        # the only question if I would have better detailed results with \"native resolution\"\n",
    "        raster.reproject(clipped_raster, crs_wkt_dst, reproj_raster)\n",
    "               \n",
    "        # delete clip file\n",
    "        os.remove(clipped_raster)"
   ]
  },
  {
   "cell_type": "code",
   "execution_count": 26,
   "metadata": {},
   "outputs": [
    {
     "data": {
      "text/plain": [
       "1471"
      ]
     },
     "execution_count": 26,
     "metadata": {},
     "output_type": "execute_result"
    }
   ],
   "source": [
    "## I will have to take into account the shifts for the coldspots (and only do it for the final, selected coldspots)"
   ]
  },
  {
   "cell_type": "code",
   "execution_count": 24,
   "metadata": {},
   "outputs": [
    {
     "data": {
      "text/plain": [
       "56.8279360246"
      ]
     },
     "execution_count": 24,
     "metadata": {},
     "output_type": "execute_result"
    }
   ],
   "source": [
    "df.loc[20,'y_coord']"
   ]
  },
  {
   "cell_type": "code",
   "execution_count": 10,
   "metadata": {},
   "outputs": [
    {
     "data": {
      "text/plain": [
       "{'proj': 'eqc',\n",
       " 'lat_ts': 0,\n",
       " 'lat_0': 0,\n",
       " 'lon_0': 0,\n",
       " 'x_0': 0,\n",
       " 'y_0': 0,\n",
       " 'a': 1737400,\n",
       " 'b': 1737400,\n",
       " 'units': 'm',\n",
       " 'no_defs': True}"
      ]
     },
     "execution_count": 10,
     "metadata": {},
     "output_type": "execute_result"
    }
   ],
   "source": [
    "df.crs"
   ]
  },
  {
   "cell_type": "code",
   "execution_count": 65,
   "metadata": {},
   "outputs": [
    {
     "data": {
      "text/plain": [
       "dict_values(['eqc', 13, 0, 0, 0, 0, 1737400, 1737400, 'm', True])"
      ]
     },
     "execution_count": 65,
     "metadata": {},
     "output_type": "execute_result"
    }
   ],
   "source": [
    "envelope_array.crs.values()"
   ]
  },
  {
   "cell_type": "code",
   "execution_count": null,
   "metadata": {},
   "outputs": [],
   "source": [
    "envelope_global = envelope_array.to_crs(crs_wkt_src_miner) #df.crs"
   ]
  },
  {
   "cell_type": "code",
   "execution_count": 66,
   "metadata": {},
   "outputs": [],
   "source": [
    "out_raster_miner = os.path.join(path_mineralogy, 'Lunar_Kaguya_MIMap_MineralDeconv_OlivinePercent_50N50S_reproj.tif')"
   ]
  },
  {
   "cell_type": "code",
   "execution_count": null,
   "metadata": {},
   "outputs": [],
   "source": [
    "raster.reproject(in_raster_miner, crs_wkt_src, out_raster_miner)"
   ]
  },
  {
   "cell_type": "code",
   "execution_count": 30,
   "metadata": {},
   "outputs": [],
   "source": [
    "filename_test = 'crater1021.tif'\n",
    "\n",
    "path1 = '/run/media/nilscp/pampa/ANALYSIS/SIMPLECRATERS_MOON/SLDEM_2015_LARGE_CRATERS/ascii_opx'\n",
    "path2 = '/run/media/nilscp/pampa/ANALYSIS/SIMPLECRATERS_MOON/SLDEM_2015_LARGE_CRATERS/ascii_plagio'\n",
    "\n",
    "with rio.open(os.path.join(path1, filename_test)) as src:\n",
    "    meta1 = src.meta\n",
    "    \n",
    "with rio.open(os.path.join(path2, filename_test)) as src:\n",
    "    meta2 = src.meta"
   ]
  },
  {
   "cell_type": "code",
   "execution_count": 31,
   "metadata": {},
   "outputs": [
    {
     "data": {
      "text/plain": [
       "{'driver': 'GTiff',\n",
       " 'dtype': 'float32',\n",
       " 'nodata': -3.4028226550889045e+38,\n",
       " 'width': 118,\n",
       " 'height': 118,\n",
       " 'count': 1,\n",
       " 'crs': CRS.from_wkt('PROJCS[\"Equirectangular Moon\",GEOGCS[\"GCS_Moon\",DATUM[\"D_Moon\",SPHEROID[\"Moon_localRadius\",1737400,0]],PRIMEM[\"Reference_Meridian\",0],UNIT[\"degree\",0.0174532925199433]],PROJECTION[\"Equirectangular\"],PARAMETER[\"latitude_of_origin\",0],PARAMETER[\"central_meridian\",0],PARAMETER[\"standard_parallel_1\",-2],PARAMETER[\"false_easting\",0],PARAMETER[\"false_northing\",0],UNIT[\"metre\",1,AUTHORITY[\"EPSG\",\"9001\"]]]'),\n",
       " 'transform': Affine(59.20725732087151, 0.0, -1236166.7625513263,\n",
       "        0.0, -59.20725732087151, -67161.48316598707)}"
      ]
     },
     "execution_count": 31,
     "metadata": {},
     "output_type": "execute_result"
    }
   ],
   "source": [
    "meta1"
   ]
  },
  {
   "cell_type": "code",
   "execution_count": 32,
   "metadata": {},
   "outputs": [
    {
     "data": {
      "text/plain": [
       "{'driver': 'GTiff',\n",
       " 'dtype': 'float32',\n",
       " 'nodata': -3.4028226550889045e+38,\n",
       " 'width': 118,\n",
       " 'height': 118,\n",
       " 'count': 1,\n",
       " 'crs': CRS.from_wkt('PROJCS[\"Equirectangular Moon\",GEOGCS[\"GCS_Moon\",DATUM[\"D_Moon\",SPHEROID[\"Moon_localRadius\",1737400,0]],PRIMEM[\"Reference_Meridian\",0],UNIT[\"degree\",0.0174532925199433]],PROJECTION[\"Equirectangular\"],PARAMETER[\"latitude_of_origin\",0],PARAMETER[\"central_meridian\",0],PARAMETER[\"standard_parallel_1\",-2],PARAMETER[\"false_easting\",0],PARAMETER[\"false_northing\",0],UNIT[\"metre\",1,AUTHORITY[\"EPSG\",\"9001\"]]]'),\n",
       " 'transform': Affine(59.20725732087151, 0.0, -1236166.7625513263,\n",
       "        0.0, -59.20725732087151, -67161.48316598707)}"
      ]
     },
     "execution_count": 32,
     "metadata": {},
     "output_type": "execute_result"
    }
   ],
   "source": [
    "meta2"
   ]
  }
 ],
 "metadata": {
  "kernelspec": {
   "display_name": "Python 3",
   "language": "python",
   "name": "python3"
  },
  "language_info": {
   "codemirror_mode": {
    "name": "ipython",
    "version": 3
   },
   "file_extension": ".py",
   "mimetype": "text/x-python",
   "name": "python",
   "nbconvert_exporter": "python",
   "pygments_lexer": "ipython3",
   "version": "3.7.3"
  }
 },
 "nbformat": 4,
 "nbformat_minor": 2
}
