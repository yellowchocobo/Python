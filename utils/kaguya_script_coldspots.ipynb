{
 "cells": [
  {
   "cell_type": "code",
   "execution_count": 133,
   "metadata": {},
   "outputs": [],
   "source": [
    "import os, sys\n",
    "import rasterio as rio\n",
    "import numpy as np\n",
    "import geopandas as gpd\n",
    "import pandas as pd\n",
    "\n",
    "sys.path.append('/uio/kant/geo-ceed-u1/nilscp/Nils/Python/utils')\n",
    "import raster\n",
    "\n",
    "from shapely.geometry import Point"
   ]
  },
  {
   "cell_type": "markdown",
   "metadata": {},
   "source": [
    "- selection crater\n",
    "- get centroid\n",
    "- get old coordinate systems\n",
    "- project to new coordinate system (equirectangular based on lon, lat) (centroid), I guess I have to do that for \n",
    "- apply buffer to the centroid\n",
    "- feature to envelope to polygon (make a square from the buffered geometry)\n",
    "- reproject to old coordinate systems\n",
    "- clip based on the bounding box / geometry\n",
    "- convert to ascii (but maybe not necessary with this new code)"
   ]
  },
  {
   "cell_type": "code",
   "execution_count": 62,
   "metadata": {},
   "outputs": [],
   "source": [
    "# polygon layers \n",
    "path = \"/uio/kant/geo-ceed-u1/nilscp/Desktop/astra/Moon/ANALYSIS/COLDSPOTS/database\"\n",
    "filename = os.path.join(path, 'coldspots_reproj.shp')\n",
    "\n",
    "# centre of the crater\n",
    "path_centre_crater = \"/run/media/nilscp/pampa/ANALYSIS/SIMPLECRATERS_MOON/SLDEM_2013_COLDSPOTS/ascii_16R\"\n",
    "f_centre_crater = os.path.join(path_centre_crater, 'centre_crater.csv')\n",
    "\n",
    "# number of columns and rows\n",
    "f_cols_rows = os.path.join(path_centre_crater, 'nxny.csv')"
   ]
  },
  {
   "cell_type": "code",
   "execution_count": 13,
   "metadata": {},
   "outputs": [],
   "source": [
    "# reading the shape file (craters)\n",
    "df = gpd.read_file(filename)"
   ]
  },
  {
   "cell_type": "code",
   "execution_count": 14,
   "metadata": {},
   "outputs": [
    {
     "data": {
      "text/html": [
       "<div>\n",
       "<style scoped>\n",
       "    .dataframe tbody tr th:only-of-type {\n",
       "        vertical-align: middle;\n",
       "    }\n",
       "\n",
       "    .dataframe tbody tr th {\n",
       "        vertical-align: top;\n",
       "    }\n",
       "\n",
       "    .dataframe thead th {\n",
       "        text-align: right;\n",
       "    }\n",
       "</style>\n",
       "<table border=\"1\" class=\"dataframe\">\n",
       "  <thead>\n",
       "    <tr style=\"text-align: right;\">\n",
       "      <th></th>\n",
       "      <th>Lon</th>\n",
       "      <th>Lat</th>\n",
       "      <th>Diameter</th>\n",
       "      <th>Diameter10</th>\n",
       "      <th>CRATER_ID</th>\n",
       "      <th>MARE</th>\n",
       "      <th>BUFFER_TXT</th>\n",
       "      <th>BUFF_DIST</th>\n",
       "      <th>ORIG_FID</th>\n",
       "      <th>geometry</th>\n",
       "    </tr>\n",
       "  </thead>\n",
       "  <tbody>\n",
       "    <tr>\n",
       "      <th>0</th>\n",
       "      <td>6.8320</td>\n",
       "      <td>46.9590</td>\n",
       "      <td>164</td>\n",
       "      <td>1640.0</td>\n",
       "      <td>cpcrater0000</td>\n",
       "      <td>0</td>\n",
       "      <td>164 meters</td>\n",
       "      <td>0.001475</td>\n",
       "      <td>0</td>\n",
       "      <td>POLYGON ((206868.9726496497 1423171.562192378,...</td>\n",
       "    </tr>\n",
       "    <tr>\n",
       "      <th>1</th>\n",
       "      <td>29.6445</td>\n",
       "      <td>46.7031</td>\n",
       "      <td>115</td>\n",
       "      <td>1150.0</td>\n",
       "      <td>cpcrater0001</td>\n",
       "      <td>1</td>\n",
       "      <td>115 meters</td>\n",
       "      <td>0.001034</td>\n",
       "      <td>1</td>\n",
       "      <td>POLYGON ((898747.3938940616 1416731.563598235,...</td>\n",
       "    </tr>\n",
       "    <tr>\n",
       "      <th>2</th>\n",
       "      <td>30.1152</td>\n",
       "      <td>44.0039</td>\n",
       "      <td>96</td>\n",
       "      <td>960.0</td>\n",
       "      <td>cpcrater0002</td>\n",
       "      <td>1</td>\n",
       "      <td>96 meters</td>\n",
       "      <td>0.000863</td>\n",
       "      <td>2</td>\n",
       "      <td>POLYGON ((913633.89739661 1334816.876537439, 9...</td>\n",
       "    </tr>\n",
       "    <tr>\n",
       "      <th>3</th>\n",
       "      <td>56.9245</td>\n",
       "      <td>48.1198</td>\n",
       "      <td>276</td>\n",
       "      <td>2760.0</td>\n",
       "      <td>cpcrater0003</td>\n",
       "      <td>1</td>\n",
       "      <td>276 meters</td>\n",
       "      <td>0.002482</td>\n",
       "      <td>3</td>\n",
       "      <td>POLYGON ((1726343.590258371 1459995.239054287,...</td>\n",
       "    </tr>\n",
       "    <tr>\n",
       "      <th>4</th>\n",
       "      <td>67.1107</td>\n",
       "      <td>43.1719</td>\n",
       "      <td>341</td>\n",
       "      <td>3410.0</td>\n",
       "      <td>cpcrater0004</td>\n",
       "      <td>0</td>\n",
       "      <td>341 meters</td>\n",
       "      <td>0.003067</td>\n",
       "      <td>4</td>\n",
       "      <td>POLYGON ((2035713.944313527 1308865.995689267,...</td>\n",
       "    </tr>\n",
       "  </tbody>\n",
       "</table>\n",
       "</div>"
      ],
      "text/plain": [
       "       Lon      Lat  Diameter  Diameter10     CRATER_ID  MARE  BUFFER_TXT  \\\n",
       "0   6.8320  46.9590       164      1640.0  cpcrater0000     0  164 meters   \n",
       "1  29.6445  46.7031       115      1150.0  cpcrater0001     1  115 meters   \n",
       "2  30.1152  44.0039        96       960.0  cpcrater0002     1   96 meters   \n",
       "3  56.9245  48.1198       276      2760.0  cpcrater0003     1  276 meters   \n",
       "4  67.1107  43.1719       341      3410.0  cpcrater0004     0  341 meters   \n",
       "\n",
       "   BUFF_DIST  ORIG_FID                                           geometry  \n",
       "0   0.001475         0  POLYGON ((206868.9726496497 1423171.562192378,...  \n",
       "1   0.001034         1  POLYGON ((898747.3938940616 1416731.563598235,...  \n",
       "2   0.000863         2  POLYGON ((913633.89739661 1334816.876537439, 9...  \n",
       "3   0.002482         3  POLYGON ((1726343.590258371 1459995.239054287,...  \n",
       "4   0.003067         4  POLYGON ((2035713.944313527 1308865.995689267,...  "
      ]
     },
     "execution_count": 14,
     "metadata": {},
     "output_type": "execute_result"
    }
   ],
   "source": [
    "df.head()"
   ]
  },
  {
   "cell_type": "code",
   "execution_count": 15,
   "metadata": {},
   "outputs": [
    {
     "data": {
      "text/plain": [
       "{'proj': 'eqc',\n",
       " 'lat_ts': 0,\n",
       " 'lat_0': 0,\n",
       " 'lon_0': 0,\n",
       " 'x_0': 0,\n",
       " 'y_0': 0,\n",
       " 'a': 1737400,\n",
       " 'b': 1737400,\n",
       " 'units': 'm',\n",
       " 'no_defs': True}"
      ]
     },
     "execution_count": 15,
     "metadata": {},
     "output_type": "execute_result"
    }
   ],
   "source": [
    "df.crs"
   ]
  },
  {
   "cell_type": "code",
   "execution_count": 21,
   "metadata": {},
   "outputs": [
    {
     "data": {
      "text/plain": [
       "(2282, 10)"
      ]
     },
     "execution_count": 21,
     "metadata": {},
     "output_type": "execute_result"
    }
   ],
   "source": [
    "df.shape"
   ]
  },
  {
   "cell_type": "code",
   "execution_count": 77,
   "metadata": {},
   "outputs": [
    {
     "data": {
      "text/html": [
       "<div>\n",
       "<style scoped>\n",
       "    .dataframe tbody tr th:only-of-type {\n",
       "        vertical-align: middle;\n",
       "    }\n",
       "\n",
       "    .dataframe tbody tr th {\n",
       "        vertical-align: top;\n",
       "    }\n",
       "\n",
       "    .dataframe thead th {\n",
       "        text-align: right;\n",
       "    }\n",
       "</style>\n",
       "<table border=\"1\" class=\"dataframe\">\n",
       "  <thead>\n",
       "    <tr style=\"text-align: right;\">\n",
       "      <th></th>\n",
       "      <th>x</th>\n",
       "      <th>y</th>\n",
       "      <th>flag</th>\n",
       "    </tr>\n",
       "  </thead>\n",
       "  <tbody>\n",
       "    <tr>\n",
       "      <th>0</th>\n",
       "      <td>1206</td>\n",
       "      <td>1648</td>\n",
       "      <td>1</td>\n",
       "    </tr>\n",
       "    <tr>\n",
       "      <th>1</th>\n",
       "      <td>1216</td>\n",
       "      <td>1594</td>\n",
       "      <td>0</td>\n",
       "    </tr>\n",
       "    <tr>\n",
       "      <th>2</th>\n",
       "      <td>0</td>\n",
       "      <td>0</td>\n",
       "      <td>0</td>\n",
       "    </tr>\n",
       "    <tr>\n",
       "      <th>3</th>\n",
       "      <td>2371</td>\n",
       "      <td>1968</td>\n",
       "      <td>1</td>\n",
       "    </tr>\n",
       "    <tr>\n",
       "      <th>4</th>\n",
       "      <td>2603</td>\n",
       "      <td>3054</td>\n",
       "      <td>1</td>\n",
       "    </tr>\n",
       "  </tbody>\n",
       "</table>\n",
       "</div>"
      ],
      "text/plain": [
       "      x     y  flag\n",
       "0  1206  1648     1\n",
       "1  1216  1594     0\n",
       "2     0     0     0\n",
       "3  2371  1968     1\n",
       "4  2603  3054     1"
      ]
     },
     "execution_count": 77,
     "metadata": {},
     "output_type": "execute_result"
    }
   ],
   "source": [
    "# reading centre of the crater\n",
    "ccrater = pd.read_csv(f_centre_crater, skiprows = 1, names=['x', 'y', 'flag'])\n",
    "\n",
    "ccrater.head(5)"
   ]
  },
  {
   "cell_type": "code",
   "execution_count": 63,
   "metadata": {},
   "outputs": [
    {
     "data": {
      "text/plain": [
       "'/run/media/nilscp/pampa/ANALYSIS/SIMPLECRATERS_MOON/SLDEM_2013_COLDSPOTS/ascii_16R/nxny.csv'"
      ]
     },
     "execution_count": 63,
     "metadata": {},
     "output_type": "execute_result"
    }
   ],
   "source": [
    "f_cols_rows"
   ]
  },
  {
   "cell_type": "code",
   "execution_count": 144,
   "metadata": {},
   "outputs": [
    {
     "data": {
      "text/html": [
       "<div>\n",
       "<style scoped>\n",
       "    .dataframe tbody tr th:only-of-type {\n",
       "        vertical-align: middle;\n",
       "    }\n",
       "\n",
       "    .dataframe tbody tr th {\n",
       "        vertical-align: top;\n",
       "    }\n",
       "\n",
       "    .dataframe thead th {\n",
       "        text-align: right;\n",
       "    }\n",
       "</style>\n",
       "<table border=\"1\" class=\"dataframe\">\n",
       "  <thead>\n",
       "    <tr style=\"text-align: right;\">\n",
       "      <th></th>\n",
       "      <th>width</th>\n",
       "      <th>height</th>\n",
       "    </tr>\n",
       "  </thead>\n",
       "  <tbody>\n",
       "    <tr>\n",
       "      <th>0</th>\n",
       "      <td>355.0</td>\n",
       "      <td>355.0</td>\n",
       "    </tr>\n",
       "    <tr>\n",
       "      <th>1</th>\n",
       "      <td>249.0</td>\n",
       "      <td>249.0</td>\n",
       "    </tr>\n",
       "    <tr>\n",
       "      <th>2</th>\n",
       "      <td>209.0</td>\n",
       "      <td>208.0</td>\n",
       "    </tr>\n",
       "    <tr>\n",
       "      <th>3</th>\n",
       "      <td>597.0</td>\n",
       "      <td>597.0</td>\n",
       "    </tr>\n",
       "    <tr>\n",
       "      <th>4</th>\n",
       "      <td>738.0</td>\n",
       "      <td>738.0</td>\n",
       "    </tr>\n",
       "    <tr>\n",
       "      <th>5</th>\n",
       "      <td>887.0</td>\n",
       "      <td>887.0</td>\n",
       "    </tr>\n",
       "    <tr>\n",
       "      <th>6</th>\n",
       "      <td>1077.0</td>\n",
       "      <td>1077.0</td>\n",
       "    </tr>\n",
       "    <tr>\n",
       "      <th>7</th>\n",
       "      <td>824.0</td>\n",
       "      <td>825.0</td>\n",
       "    </tr>\n",
       "    <tr>\n",
       "      <th>8</th>\n",
       "      <td>385.0</td>\n",
       "      <td>386.0</td>\n",
       "    </tr>\n",
       "    <tr>\n",
       "      <th>9</th>\n",
       "      <td>781.0</td>\n",
       "      <td>781.0</td>\n",
       "    </tr>\n",
       "  </tbody>\n",
       "</table>\n",
       "</div>"
      ],
      "text/plain": [
       "    width  height\n",
       "0   355.0   355.0\n",
       "1   249.0   249.0\n",
       "2   209.0   208.0\n",
       "3   597.0   597.0\n",
       "4   738.0   738.0\n",
       "5   887.0   887.0\n",
       "6  1077.0  1077.0\n",
       "7   824.0   825.0\n",
       "8   385.0   386.0\n",
       "9   781.0   781.0"
      ]
     },
     "execution_count": 144,
     "metadata": {},
     "output_type": "execute_result"
    }
   ],
   "source": [
    "# reading ncols nrows\n",
    "cols_rows = pd.read_csv(f_cols_rows, names=['width', 'height'])\n",
    "\n",
    "cols_rows.head(10)"
   ]
  },
  {
   "cell_type": "code",
   "execution_count": 146,
   "metadata": {},
   "outputs": [
    {
     "data": {
      "text/plain": [
       "'/run/media/nilscp/pampa/ANALYSIS/SIMPLECRATERS_MOON/SLDEM_2013_LARGE_CRATERS/ascii_olivine/crater0049.tif'"
      ]
     },
     "execution_count": 146,
     "metadata": {},
     "output_type": "execute_result"
    }
   ],
   "source": [
    "reproj_raster"
   ]
  },
  {
   "cell_type": "code",
   "execution_count": 151,
   "metadata": {},
   "outputs": [],
   "source": [
    "# Olivine\n",
    "\n",
    "path_raster = '/uio/kant/geo-ceed-u1/nilscp/Desktop/lunaspec/SLDEM2015'\n",
    "in_raster = os.path.join(path_raster, 'Lunar_LRO_LrocKaguya_DEMmerge_60N60S_512ppd.tif')\n",
    "cliptype = 'geojson'\n",
    "\n",
    "path_mineralogy = '/uio/kant/geo-ceed-u1/nilscp/Desktop/astra/Moon/Kaguya_mineralogy/'\n",
    "in_raster_miner = os.path.join(path_mineralogy, 'Lunar_Kaguya_MIMap_MineralDeconv_ClinopyroxenePercent_50N50S_clip.tif')\n",
    "paths = '/run/media/nilscp/pampa/ANALYSIS/SIMPLECRATERS_MOON/SLDEM_2013_COLDSPOTS/ascii_cpx'\n",
    "\n",
    "with rio.open(in_raster) as src:\n",
    "    crs_wkt_src = src.crs.to_wkt()\n",
    "    \n",
    "with rio.open(in_raster_miner) as src:\n",
    "    crs_wkt_src_miner = src.crs.to_wkt()\n",
    "\n",
    "for i in range(np.shape(ccrater)[0]):\n",
    "#for i in range(50):    \n",
    "    #print(i)\n",
    "    \n",
    "    if ((df.loc[i,'Lat'] >= 50.0) or (df.loc[i,'Lat'] <= -50.0)):\n",
    "        None\n",
    "        \n",
    "    else:    \n",
    "        if ccrater.loc[i,'y'] != 0:\n",
    "            \n",
    "            \n",
    "            # get centre of the crater\n",
    "            xmiddle = (cols_rows.loc[i, 'width'] * resolution_kaguya) / 2.0\n",
    "            ymiddle = (cols_rows.loc[i, 'height'] * resolution_kaguya) / 2.0\n",
    "            \n",
    "            # check offset compare to real centre of the crater\n",
    "            offsetx = ccrater.loc[i,'x']- xmiddle\n",
    "            offsety = ccrater.loc[i,'y']- ymiddle\n",
    "\n",
    "            dict_crater = {'geometry': [df.geometry.loc[i]], 'index': [0]}\n",
    "            dataframe_crater = pd.DataFrame(dict_crater)\n",
    "            geodataframe_crater = gpd.GeoDataFrame(dataframe_crater, geometry=dataframe_crater.geometry)\n",
    "            geodataframe_crater.crs = df.crs\n",
    "\n",
    "            geom_geoseries = gpd.GeoSeries(geodataframe_crater.geometry)\n",
    "            geom_geoseries.crs = df.crs\n",
    "\n",
    "            centroids = geom_geoseries.centroid\n",
    "            new_crs = df.crs.copy()\n",
    "            new_crs['lat_ts'] = int(df.Lat.loc[i])\n",
    "\n",
    "            # get new coordinate system \n",
    "            crs_wkt_dst = raster.crs_eqc(crs_wkt_src, df.Lat.loc[i])\n",
    "\n",
    "            # Change coordinates of centroids (need to modify the geometry here)\n",
    "            # add X and Y (with the cellsize of Kaguya DEM, constant here and equal to 7.4031617\n",
    "            # need to get point from shapely\n",
    "            centroids_eq = centroids.to_crs(new_crs)\n",
    "            \n",
    "            # update centre crater value \n",
    "            centroids_eq.geometry[0] = Point(centroids_eq.geometry[0].x + offsetx, centroids_eq.geometry[0].y + offsety)\n",
    "\n",
    "            # Does it make the buffer from the polygon? I do specifically \n",
    "            buffer_array = centroids_eq.buffer((df.Diameter.loc[i]*0.5)*1.5) # I will go for 0.75\n",
    "            envelope_array = buffer_array.envelope\n",
    "            envelope_global = envelope_array.to_crs(df.crs) #df.crs\n",
    "\n",
    "            tmp = envelope_global.__geo_interface__ \n",
    "            in_polygon = [tmp['features'][0]['geometry']]\n",
    "\n",
    "            # clip\n",
    "            fname_raster_clip = 'crater' + str(i).zfill(4) + '_clip.tif'\n",
    "            clipped_raster = os.path.join(paths, fname_raster_clip)\n",
    "            raster.clip_advanced(in_raster_miner, in_polygon, cliptype, clipped_raster)\n",
    "\n",
    "            # reproject\n",
    "            fname_raster_reproj = 'crater' + str(i).zfill(4) + '.tif'\n",
    "            reproj_raster = os.path.join(paths, fname_raster_reproj)\n",
    "            raster.reproject(clipped_raster, crs_wkt_dst, reproj_raster)\n",
    "\n",
    "        else:\n",
    "            None\n",
    "    \n",
    "    # something to remember: the reprojection cause the raster to not have the resolution\n",
    "    # there are two solutions: 1) work with rasters of different resolution or 2) downscale the raster\n",
    "    # but you will miss some of the data...\n",
    "    # doing 1) would be mean to change quite lot of the scripts previously written\n",
    "    # but I don't think this is a problem for the mineralogical map.\n",
    "    # the only question if I would have better detailed results with \"native resolution\"\n",
    "    #raster.reproject(clipped_raster, crs_wkt_dst, reproj_raster)"
   ]
  }
 ],
 "metadata": {
  "kernelspec": {
   "display_name": "Python 3",
   "language": "python",
   "name": "python3"
  },
  "language_info": {
   "codemirror_mode": {
    "name": "ipython",
    "version": 3
   },
   "file_extension": ".py",
   "mimetype": "text/x-python",
   "name": "python",
   "nbconvert_exporter": "python",
   "pygments_lexer": "ipython3",
   "version": "3.7.3"
  }
 },
 "nbformat": 4,
 "nbformat_minor": 2
}
