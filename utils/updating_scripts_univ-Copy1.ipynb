{
 "cells": [
  {
   "cell_type": "code",
   "execution_count": 10,
   "metadata": {},
   "outputs": [],
   "source": [
    "import os, sys\n",
    "import rasterio as rio\n",
    "import numpy as np\n",
    "import geopandas as gpd\n",
    "import pandas as pd\n",
    "\n",
    "sys.path.append('/uio/kant/geo-ceed-u1/nilscp/Nils/Python/utils')\n",
    "import raster"
   ]
  },
  {
   "cell_type": "markdown",
   "metadata": {},
   "source": [
    "- selection crater\n",
    "- get centroid\n",
    "- get old coordinate systems\n",
    "- project to new coordinate system (equirectangular based on lon, lat) (centroid), I guess I have to do that for \n",
    "- apply buffer to the centroid\n",
    "- feature to envelope to polygon (make a square from the buffered geometry)\n",
    "- reproject to old coordinate systems\n",
    "- clip based on the bounding box / geometry\n",
    "- convert to ascii (but maybe not necessary with this new code)"
   ]
  },
  {
   "cell_type": "code",
   "execution_count": 14,
   "metadata": {},
   "outputs": [],
   "source": [
    "# polygon layers \n",
    "path = \"/run/media/nilscp/pampa/ANALYSIS/SIMPLECRATERS_MOON/SLDEM_2015_LARGE_CRATERS/layers\"\n",
    "filename = os.path.join(path, 'rayed_craters.shp')"
   ]
  },
  {
   "cell_type": "code",
   "execution_count": 15,
   "metadata": {},
   "outputs": [],
   "source": [
    "# reading the shape file (craters)\n",
    "df = gpd.read_file(filename)"
   ]
  },
  {
   "cell_type": "code",
   "execution_count": 17,
   "metadata": {},
   "outputs": [
    {
     "data": {
      "text/plain": [
       "{'proj': 'eqc',\n",
       " 'lat_ts': 0,\n",
       " 'lat_0': 0,\n",
       " 'lon_0': 0,\n",
       " 'x_0': 0,\n",
       " 'y_0': 0,\n",
       " 'a': 1737400,\n",
       " 'b': 1737400,\n",
       " 'units': 'm',\n",
       " 'no_defs': True}"
      ]
     },
     "execution_count": 17,
     "metadata": {},
     "output_type": "execute_result"
    }
   ],
   "source": [
    "df.crs"
   ]
  },
  {
   "cell_type": "code",
   "execution_count": 45,
   "metadata": {},
   "outputs": [],
   "source": [
    "# For SLDEM2015\n",
    "\n",
    "path_raster = '/uio/kant/geo-ceed-u1/nilscp/Desktop/lunaspec/SLDEM2015'\n",
    "in_raster = os.path.join(path_raster, 'Lunar_LRO_LrocKaguya_DEMmerge_60N60S_512ppd.tif')\n",
    "cliptype = 'geojson'\n",
    "\n",
    "with rio.open(in_raster) as src:\n",
    "    crs_wkt_src = src.crs.to_wkt()\n",
    "    \n",
    "for i in range(10,12):\n",
    "    \n",
    "    dict_crater = {'geometry': [df.geometry.loc[i]], 'index': [0]}\n",
    "    dataframe_crater = pd.DataFrame(dict_crater)\n",
    "    geodataframe_crater = gpd.GeoDataFrame(dataframe_crater, geometry=dataframe_crater.geometry)\n",
    "    geodataframe_crater.crs = df.crs\n",
    "    \n",
    "    geom_geoseries = gpd.GeoSeries(geodataframe_crater.geometry)\n",
    "    geom_geoseries.crs = df.crs\n",
    "    \n",
    "    centroids = geom_geoseries.centroid\n",
    "    new_crs = df.crs.copy()\n",
    "    new_crs['lat_ts'] = int(df.y_coord.loc[i])\n",
    "\n",
    "    # get new coordinate system (this does not work yet)\n",
    "    crs_wkt_dst = raster.crs_eqc(crs_wkt_src, df.y_coord.loc[i])\n",
    "    \n",
    "    # Change coordinates of centroids\n",
    "    centroids_eq = centroids.to_crs(new_crs)\n",
    "    \n",
    "    # Does it make the buffer from the polygon? I do specifically \n",
    "    buffer_array = centroids_eq.buffer((df.Diam_km.loc[i]*0.5)*1500.0) # I will go for 0.75\n",
    "    envelope_array = buffer_array.envelope\n",
    "    envelope_global = envelope_array.to_crs(df.crs)\n",
    "    \n",
    "    tmp = envelope_global.__geo_interface__ \n",
    "    in_polygon = [tmp['features'][0]['geometry']]\n",
    "    \n",
    "    # clip\n",
    "    fname_raster_clip = 'crater' + str(i).zfill(4) + '_clip.tif'\n",
    "    clipped_raster = os.path.join(path_raster, fname_raster_clip)\n",
    "    raster.clip_advanced(in_raster, in_polygon, cliptype, clipped_raster)\n",
    "    \n",
    "    # reproject\n",
    "    fname_raster_reproj = 'crater' + str(i).zfill(4) + '.tif'\n",
    "    reproj_raster = os.path.join(path_raster, fname_raster_reproj)\n",
    "    \n",
    "    # something to remember: the reprojection cause the raster to not have the resolution\n",
    "    # there are two solutions: 1) work with rasters of different resolution or 2) downscale the raster\n",
    "    # but you will miss some of the data...\n",
    "    # doing 1) would be mean to change quite lot of the scripts previously written\n",
    "    # but I don't think this is a problem for the mineralogical map.\n",
    "    # the only question if I would have better detailed results with \"native resolution\"\n",
    "    raster.reproject(clipped_raster, crs_wkt_dst, reproj_raster)   "
   ]
  },
  {
   "cell_type": "code",
   "execution_count": null,
   "metadata": {},
   "outputs": [],
   "source": [
    "# Olivine\n",
    "\n",
    "path_raster = '/uio/kant/geo-ceed-u1/nilscp/Desktop/lunaspec/SLDEM2015'\n",
    "in_raster = os.path.join(path_raster, 'Lunar_LRO_LrocKaguya_DEMmerge_60N60S_512ppd.tif')\n",
    "cliptype = 'geojson'\n",
    "\n",
    "path_mineralogy = '/uio/kant/geo-ceed-u1/nilscp/Desktop/astra/Moon/Kaguya_mineralogy/'\n",
    "in_raster_miner = os.path.join(path_mineralogy, 'Lunar_Kaguya_MIMap_MineralDeconv_OlivinePercent_50N50S.tif')\n",
    "paths = '/run/media/nilscp/pampa/ANALYSIS/SIMPLECRATERS_MOON/SLDEM_2015_LARGE_CRATERS/ascii_olivine'\n",
    "\n",
    "\n",
    "\n",
    "with rio.open(in_raster) as src:\n",
    "    crs_wkt_src = src.crs.to_wkt()\n",
    "    \n",
    "with rio.open(in_raster_miner) as src:\n",
    "    crs_wkt_src_miner = src.crs.to_wkt()\n",
    "    \n",
    "# reproject main raster\n",
    "raster.reproject(in_raster_miner, crs_wkt_src, out_raster_miner)\n",
    "out_raster_miner = os.path.join(path_mineralogy, 'Lunar_Kaguya_MIMap_MineralDeconv_OlivinePercent_50N50S_reproj.tif')\n",
    "    \n",
    "for i in range(10,12):\n",
    "    \n",
    "    dict_crater = {'geometry': [df.geometry.loc[i]], 'index': [0]}\n",
    "    dataframe_crater = pd.DataFrame(dict_crater)\n",
    "    geodataframe_crater = gpd.GeoDataFrame(dataframe_crater, geometry=dataframe_crater.geometry)\n",
    "    geodataframe_crater.crs = df.crs\n",
    "    \n",
    "    geom_geoseries = gpd.GeoSeries(geodataframe_crater.geometry)\n",
    "    geom_geoseries.crs = df.crs\n",
    "    \n",
    "    centroids = geom_geoseries.centroid\n",
    "    new_crs = df.crs.copy()\n",
    "    new_crs['lat_ts'] = int(df.y_coord.loc[i])\n",
    "\n",
    "    # get new coordinate system \n",
    "    crs_wkt_dst = raster.crs_eqc(crs_wkt_src, df.y_coord.loc[i])\n",
    "    \n",
    "    # Change coordinates of centroids\n",
    "    centroids_eq = centroids.to_crs(new_crs)\n",
    "    \n",
    "    # Does it make the buffer from the polygon? I do specifically \n",
    "    buffer_array = centroids_eq.buffer((df.Diam_km.loc[i]*0.5)*1500.0) # I will go for 0.75\n",
    "    envelope_array = buffer_array.envelope\n",
    "    envelope_global = envelope_array.to_crs(crs_wkt_src_miner) #df.crs\n",
    "    \n",
    "    tmp = envelope_global.__geo_interface__ \n",
    "    in_polygon = [tmp['features'][0]['geometry']]\n",
    "    \n",
    "    # clip\n",
    "    fname_raster_clip = 'crater' + str(i).zfill(4) + '_clip.tif'\n",
    "    clipped_raster = os.path.join(paths, fname_raster_clip)\n",
    "    raster.clip_advanced(in_raster_miner, in_polygon, cliptype, clipped_raster)\n",
    "    \n",
    "    # reproject\n",
    "    fname_raster_reproj = 'crater' + str(i).zfill(4) + '.tif'\n",
    "    reproj_raster = os.path.join(paths, fname_raster_reproj)\n",
    "    \n",
    "    # something to remember: the reprojection cause the raster to not have the resolution\n",
    "    # there are two solutions: 1) work with rasters of different resolution or 2) downscale the raster\n",
    "    # but you will miss some of the data...\n",
    "    # doing 1) would be mean to change quite lot of the scripts previously written\n",
    "    # but I don't think this is a problem for the mineralogical map.\n",
    "    # the only question if I would have better detailed results with \"native resolution\"\n",
    "    #raster.reproject(clipped_raster, crs_wkt_dst, reproj_raster)"
   ]
  },
  {
   "cell_type": "code",
   "execution_count": 57,
   "metadata": {},
   "outputs": [
    {
     "data": {
      "text/plain": [
       "[{'type': 'Polygon',\n",
       "  'coordinates': (((-3819597.347522874, 401289.63027548464),\n",
       "    (-3803198.170933821, 401289.63027548464),\n",
       "    (-3803198.170933821, 417268.4970309846),\n",
       "    (-3819597.347522874, 417268.4970309846),\n",
       "    (-3819597.347522874, 401289.63027548464)),)}]"
      ]
     },
     "execution_count": 57,
     "metadata": {},
     "output_type": "execute_result"
    }
   ],
   "source": [
    "in_polygon"
   ]
  },
  {
   "cell_type": "code",
   "execution_count": 65,
   "metadata": {},
   "outputs": [
    {
     "data": {
      "text/plain": [
       "dict_values(['eqc', 13, 0, 0, 0, 0, 1737400, 1737400, 'm', True])"
      ]
     },
     "execution_count": 65,
     "metadata": {},
     "output_type": "execute_result"
    }
   ],
   "source": [
    "envelope_array.crs.values()"
   ]
  },
  {
   "cell_type": "code",
   "execution_count": 2,
   "metadata": {},
   "outputs": [],
   "source": [
    "path_raster = '/uio/kant/geo-ceed-u1/nilscp/Desktop/lunaspec/SLDEM2015'\n",
    "in_raster = os.path.join(path_raster, 'Lunar_LRO_LrocKaguya_DEMmerge_60N60S_512ppd.tif')\n",
    "cliptype = 'geojson'\n",
    "\n",
    "with rio.open(in_raster) as src:\n",
    "    crs_wkt_src = src.crs.to_wkt()"
   ]
  },
  {
   "cell_type": "code",
   "execution_count": 7,
   "metadata": {},
   "outputs": [],
   "source": [
    "# lraster = ['Lunar_Kaguya_MIMap_MineralDeconv_PlagioclasePercent_50N50S.tif', \n",
    "#            'Lunar_Kaguya_MIMap_MineralDeconv_ClinopyroxenePercent_50N50S.tif',\n",
    "#            'Lunar_Kaguya_MIMap_MineralDeconv_OrthopyroxenePercent_50N50S.tif']\n",
    "\n",
    "# lraster_out = ['Lunar_Kaguya_MIMap_MineralDeconv_PlagioclasePercent_50N50S_clip.tif', \n",
    "#            'Lunar_Kaguya_MIMap_MineralDeconv_ClinopyroxenePercent_50N50S_clip.tif',\n",
    "#            'Lunar_Kaguya_MIMap_MineralDeconv_OrthopyroxenePercent_50N50S_clip.tif']\n",
    "\n",
    "lraster = ['Lunar_Kaguya_MIMap_MineralDeconv_OlivinePercent_50N50S.tif']\n",
    "\n",
    "lraster_out  = ['Lunar_Kaguya_MIMap_MineralDeconv_OlivinePercent_50N50S_clip.tif']\n",
    "\n",
    "path_mineralogy = '/uio/kant/geo-ceed-u1/nilscp/Desktop/astra/Moon/Kaguya_mineralogy/'"
   ]
  },
  {
   "cell_type": "code",
   "execution_count": 8,
   "metadata": {},
   "outputs": [],
   "source": [
    "for ix, l in enumerate(lraster):\n",
    "    in_raster_miner = os.path.join(path_mineralogy, l)\n",
    "    out_raster_miner = os.path.join(path_mineralogy, lraster_out[ix])\n",
    "    raster.reproject(in_raster_miner, crs_wkt_src, out_raster_miner)"
   ]
  },
  {
   "cell_type": "code",
   "execution_count": null,
   "metadata": {},
   "outputs": [],
   "source": []
  }
 ],
 "metadata": {
  "kernelspec": {
   "display_name": "Python 3",
   "language": "python",
   "name": "python3"
  },
  "language_info": {
   "codemirror_mode": {
    "name": "ipython",
    "version": 3
   },
   "file_extension": ".py",
   "mimetype": "text/x-python",
   "name": "python",
   "nbconvert_exporter": "python",
   "pygments_lexer": "ipython3",
   "version": "3.7.3"
  }
 },
 "nbformat": 4,
 "nbformat_minor": 2
}
