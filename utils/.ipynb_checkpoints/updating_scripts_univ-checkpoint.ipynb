{
 "cells": [
  {
   "cell_type": "code",
   "execution_count": 1,
   "metadata": {},
   "outputs": [],
   "source": [
    "import os, sys\n",
    "import rasterio as rio\n",
    "import numpy as np\n",
    "import geopandas as gpd\n",
    "import pandas as pd\n",
    "\n",
    "sys.path.append('/uio/kant/geo-ceed-u1/nilscp/Nils/Python/utils')\n",
    "import raster"
   ]
  },
  {
   "cell_type": "markdown",
   "metadata": {},
   "source": [
    "- selection crater\n",
    "- get centroid\n",
    "- get old coordinate systems\n",
    "- project to new coordinate system (equirectangular based on lon, lat) (centroid), I guess I have to do that for \n",
    "- apply buffer to the centroid\n",
    "- feature to envelope to polygon (make a square from the buffered geometry)\n",
    "- reproject to old coordinate systems\n",
    "- clip based on the bounding box / geometry\n",
    "- convert to ascii (but maybe not necessary with this new code)"
   ]
  },
  {
   "cell_type": "code",
   "execution_count": 2,
   "metadata": {},
   "outputs": [],
   "source": [
    "path = \"/run/media/nilscp/pampa/ANALYSIS/SIMPLECRATERS_MOON/SLDEM_2015_LARGE_CRATERS/layers\"\n",
    "filename = os.path.join(path, 'rayed_craters.shp')"
   ]
  },
  {
   "cell_type": "code",
   "execution_count": 4,
   "metadata": {},
   "outputs": [],
   "source": [
    "# reading the shape file (craters)\n",
    "df = gpd.read_file(filename)"
   ]
  },
  {
   "cell_type": "code",
   "execution_count": 6,
   "metadata": {},
   "outputs": [
    {
     "ename": "NameError",
     "evalue": "name 'reproject' is not defined",
     "output_type": "error",
     "traceback": [
      "\u001b[0;31m---------------------------------------------------------------------------\u001b[0m",
      "\u001b[0;31mNameError\u001b[0m                                 Traceback (most recent call last)",
      "\u001b[0;32m<ipython-input-6-10e3c9bf7a93>\u001b[0m in \u001b[0;36m<module>\u001b[0;34m\u001b[0m\n\u001b[1;32m     40\u001b[0m     \u001b[0mdst_crs\u001b[0m \u001b[0;34m=\u001b[0m \u001b[0mrio\u001b[0m\u001b[0;34m.\u001b[0m\u001b[0mcrs\u001b[0m\u001b[0;34m.\u001b[0m\u001b[0mCRS\u001b[0m\u001b[0;34m.\u001b[0m\u001b[0mfrom_dict\u001b[0m\u001b[0;34m(\u001b[0m\u001b[0mnew_crs\u001b[0m\u001b[0;34m)\u001b[0m\u001b[0;34m\u001b[0m\u001b[0;34m\u001b[0m\u001b[0m\n\u001b[1;32m     41\u001b[0m \u001b[0;34m\u001b[0m\u001b[0m\n\u001b[0;32m---> 42\u001b[0;31m     \u001b[0mreproject\u001b[0m\u001b[0;34m(\u001b[0m\u001b[0mclipped_raster\u001b[0m\u001b[0;34m,\u001b[0m \u001b[0mdst_crs\u001b[0m\u001b[0;34m,\u001b[0m \u001b[0mreproj_raster\u001b[0m\u001b[0;34m)\u001b[0m\u001b[0;34m\u001b[0m\u001b[0;34m\u001b[0m\u001b[0m\n\u001b[0m\u001b[1;32m     43\u001b[0m \u001b[0;34m\u001b[0m\u001b[0m\n",
      "\u001b[0;31mNameError\u001b[0m: name 'reproject' is not defined"
     ]
    }
   ],
   "source": [
    "#n = np.shape(df)[0]\n",
    "\n",
    "path_raster = '/uio/kant/geo-ceed-u1/nilscp/Desktop/lunaspec/SLDEM2015'\n",
    "in_raster = os.path.join(path_raster, 'Lunar_LRO_LrocKaguya_DEMmerge_60N60S_512ppd.tif')\n",
    "cliptype = 'geojson'\n",
    "\n",
    "for i in range(10,12):\n",
    "    \n",
    "    dict_crater = {'geometry': [df.geometry.loc[i]], 'index': [0]}\n",
    "    dataframe_crater = pd.DataFrame(dict_crater)\n",
    "    geodataframe_crater = gpd.GeoDataFrame(dataframe_crater, geometry=dataframe_crater.geometry)\n",
    "    geodataframe_crater.crs = df.crs\n",
    "    \n",
    "    geom_geoseries = gpd.GeoSeries(geodataframe_crater.geometry)\n",
    "    geom_geoseries.crs = df.crs\n",
    "    \n",
    "    centroids = geom_geoseries.centroid\n",
    "    new_crs = df.crs.copy()\n",
    "    new_crs['lat_0'] = df.y_coord.loc[i]\n",
    "    new_crs['lon_0'] = df.x_coord.loc[i]\n",
    "    \n",
    "    centroids_eq = geom_geoseries.to_crs(new_crs)\n",
    "    buffer_array = centroids_eq.buffer(df.Diam_km.loc[i]*4000.0)\n",
    "    envelope_array = buffer_array.envelope\n",
    "    envelope_global = envelope_array.to_crs(df.crs)\n",
    "    \n",
    "    tmp = envelope_global.__geo_interface__ \n",
    "    in_polygon = [tmp['features'][0]['geometry']]\n",
    "    \n",
    "    # clip\n",
    "    fname_raster_clip = 'crater' + str(i).zfill(4) + '_clip.tif'\n",
    "    clipped_raster = os.path.join(path_raster, fname_raster_clip)\n",
    "    raster.clip(in_raster, in_polygon, cliptype, clipped_raster)\n",
    "    \n",
    "    # reproject\n",
    "    fname_raster_reproj = 'crater' + str(i).zfill(4) + '.tif'\n",
    "    reproj_raster = os.path.join(path_raster, fname_raster_reproj)\n",
    "    \n",
    "    # get new coordinate system\n",
    "    dst_crs = rio.crs.CRS.from_dict(new_crs)\n",
    "    \n",
    "    reproject(clipped_raster, dst_crs, reproj_raster)\n",
    "    "
   ]
  }
 ],
 "metadata": {
  "kernelspec": {
   "display_name": "Python 3",
   "language": "python",
   "name": "python3"
  },
  "language_info": {
   "codemirror_mode": {
    "name": "ipython",
    "version": 3
   },
   "file_extension": ".py",
   "mimetype": "text/x-python",
   "name": "python",
   "nbconvert_exporter": "python",
   "pygments_lexer": "ipython3",
   "version": "3.7.3"
  }
 },
 "nbformat": 4,
 "nbformat_minor": 2
}
