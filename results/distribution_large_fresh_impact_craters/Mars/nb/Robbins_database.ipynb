{
 "cells": [
  {
   "cell_type": "markdown",
   "metadata": {},
   "source": [
    "## Loading of Robbins's database\n",
    "\n",
    "Robbins & Hynek (2012) <br>\n",
    "**A new global database of Mars impact craters ≥1 km: 1. Database creation, properties, and parameters** <br>\n",
    "https://agupubs.onlinelibrary.wiley.com/doi/10.1029/2011JE003966 <br>\n",
    "\n",
    "\n",
    "### Appendix A:: Columns in the Database and Brief Descriptions\n",
    "\n",
    "[75] This Appendix lists all columns present in the released database as well as a brief description. Capitalized text in the remainder of this section indicates the column name as it appears in the database. For brevity and since many columns effectively have the same description, items [in square brackets] are multiple instances of the prefix or suffix with the text in square brackets as the variable. For example, LATITUDE_CIRCLE_[IMAGE, TOPOG] indicates that there are two columns in the database, one named LATITUDE_CIRCLE_IMAGE and the other LATITUDE_CIRCLE_TOPOG.\n",
    "\n",
    "[76] CRATER_ID Crater ID is of the format ##‐######. The first two numbers indicate the Mars subquad (map available at http://planetarynames.wr.usgs.gov/Page/mars1to5mMOLA), while the last six are craters in order of largest to smallest diameter within that subquad. Column format is fixed‐width, 9‐character string.\n",
    "\n",
    "[77] LATITUDE_CIRCLE_[IMAGE, TOPOG] Latitude from the derived center of a nonlinear least squares circle fit to the vertices selected to manually identify the crater rim. Units are decimal degrees North. Column format is variable‐width, signed decimal to the thousandths place.\n",
    "\n",
    "[78] LONGITUDE_CIRCLE_[IMAGE, TOPOG] Longitude from the derived center of a nonlinear least squares circle fit to the vertices selected to manually identify the crater rim. Units are decimal degrees East. Column format is variable‐width, signed decimal to the thousandths place.\n",
    "\n",
    "[79] LATITUDE_ELLIPSE_IMAGE Latitude from the derived center of a nonlinear least squares ellipse fit to the vertices selected to manually identify the crater rim. Units are decimal degrees North. Column format is variable‐width, signed decimal to the thousandths place.\n",
    "\n",
    "[80] LONGITUDE_ELLIPSE_IMAGE Longitude from the derived center of a nonlinear least squares ellipse fit to the vertices selected to manually identify the crater rim. Units are decimal degrees East. Column format is variable‐width, signed decimal to the thousandths place.\n",
    "\n",
    "[81] DIAM_CIRCLE_[IMAGE, TOPOG] Diameter from a nonlinear least squares circle fit to the vertices selected to manually identify the crater rim. Units are km. Column format is variable‐width, decimal to the hundredths place.\n",
    "\n",
    "[82] DIAM_ELLIPSE_MAJOR_IMAGE Major axis of a nonlinear least squares ellipse fit to the vertices selected to manually identify the crater rim. Units are km. Column format is variable‐width, decimal to the hundredths place.\n",
    "\n",
    "[83] DIAM_ELLIPSE_MINOR_IMAGE Minor axis of a nonlinear least squares ellipse fit to the vertices selected to manually identify the crater rim. Units are km. Column format is variable‐width, decimal to the hundredths place.\n",
    "\n",
    "[84] DIAM_ELLIPSE_ECCEN_IMAGE Eccentricity of the nonlinear least squares ellipse fit, defined as urn:x-wiley:01480227:media:jgre3017:jgre3017-math-0001. Column format is variable‐width, decimal to the hundredths place.\n",
    "\n",
    "[85] DIAM_ELLIPSE_ECCEN_IMAGE Ellipticity of the nonlinear least squares ellipse fit, defined as ε = a/b. Column format is variable‐width, decimal to the hundredths place.\n",
    "\n",
    "[86] DIAM_ELLIPSE_ANGLE_IMAGE Tilt angle of the nonlinear least squares ellipse fit. Units are degrees between ±90° where 0° has the major axis aligned along a line of latitude, and positive values are counter‐clockwise. Column format is variable‐width, signed decimal to the hundredths place.\n",
    "\n",
    "[87] DEPTH_RIM_TOPOG Average elevation of each of the manually determined N points along the crater rim. Points are selected as relative topographic highs under the assumption they are the least eroded so most original points along the rim. Units are km. Column format is variable‐width, signed decimal to the hundredths place.\n",
    "\n",
    "[88] DEPTH_RIM_SD_TOPOG The standard deviation from the mean of the N points along the rim. Units are km. Column format is variable‐width, decimal to the hundredths place.\n",
    "\n",
    "[89] DEPTH_SURFACE_TOPOG Average elevation of each of the manually determined N points outside of the crater rim and any visible ejecta blanket. This is notoriously difficult to estimate due to ejecta blankets from the crater of interest and other craters, as well as other complicating topologic features. Units are km. Units are km. Column format is variable‐width, signed decimal to the hundredths place.\n",
    "\n",
    "[90] DEPTH_SURFACE_SD_TOPOG The standard deviation from the mean of the N points along the rim. Units are km. Column format is variable‐width, decimal to the hundredths place.\n",
    "\n",
    "[91] DEPTH_FLOOR_TOPOG Average elevation of each of the manually determined N points inside the crater floor. Points were chosen as the lowest elevation that did not include visible embedded craters. Units are km. Units are km. Column format is variable‐width, signed decimal to the hundredths place.\n",
    "\n",
    "[92] DEPTH_FLOOR_SD_TOPOG The standard deviation from the mean of the N points along the rim. Units are km. Column format is variable‐width, decimal to the hundredths place.\n",
    "\n",
    "[93] DEPTH_RIMFLOOR_TOPOG Defined as DEPTH_RIM_TOPOG ‐ DEPTH_FLOOR_TOPOG Units are km. Column format is variable‐width, signed decimal to the hundredths place.\n",
    "\n",
    "[94] DEPTH_RIMHEIGHT_TOPOG Defined as DEPTH_RIM_TOPOG ‐ DEPTH_SURFACE_TOPOG Units are km. Column format is variable‐width, signed decimal to the hundredths place.\n",
    "\n",
    "[95] DEPTH_SURFFLOOR_TOPOG Defined as DEPTH_SURFACE_TOPOG ‐ DEPTH_FLOOR_TOPOG Units are km. Column format is variable‐width, signed decimal to the hundredths place.\n",
    "\n",
    "[96] PTS_USED_RIM_[IMAGE, TOPOG] Number of N points manually selected around the crater rim to identify the crater. Units are km. Column format is variable‐width, integer.\n",
    "\n",
    "[97] PTS_USED_SURFACE Number of N points manually selected around the crater's surface for the topographic analysis. Column format is variable‐width, integer.\n",
    "\n",
    "[98] PTS_USED_FLOOR Number of N points manually selected within the crater's floor for the topographic analysis. Column format is variable‐width, integer.\n",
    "\n",
    "[99] PTS_USED_LAYER_1 Number of N points manually selected along the perimeter of the inner‐most (or only) layer of the crater's ejecta. Note that this was done with THEMIS Daytime IR mosaics. Column format is variable‐width, integer.\n",
    "\n",
    "[100] PTS_USED_LAYER_[2, 3, 4, 5] Number of N points manually selected along the perimeter of each successively outer crater layer (or blank if the crater does not have those lobes). Column format is variable‐width, integer.\n",
    "\n",
    "[101] NUMBER_LAYERS The maximum number of cohesive layers in any azimuthal direction that could be reliably identified. Column format is 1 digit integer.\n",
    "\n",
    "[102] MORPHOLOGY_CRATER_1 Basic morphology of the crater interior (following Barlow and Bradley, 1990); examples are illustrated in Appendix C. Column format is variable‐width, string.\n",
    "\n",
    "[103] MORPHOLOGY_CRATER_2 Notes features of interest through or on the crater wall. Column format is variable‐width, string.\n",
    "\n",
    "[104] MORPHOLOGY_CRATER_3 Notes features of interest on the crater floor. Column format is variable‐width, string.\n",
    "\n",
    "[105] MORPHOLOGY_EJECTA_1 Ejecta morphology classified following Barlow et al., 2000; examples are illustrated in Appendix C. If there are multiple values, separated by a “/,” then the order is the inner‐most ejecta through the outer‐most, or the top‐most through the bottom‐most. Column format is variable‐width, string.\n",
    "\n",
    "[106] MORPHOLOGY_EJECTA_2 The morphology of the layers(s) itself/themselves. This column further describes the ejecta/layer morphology to help differentiate. This classification system is unique to this work. Examples are illustrated in Appendix C. Column format is variable‐width, string.\n",
    "\n",
    "[107] MORPHOLOGY_EJECTA_3 Overall texture and/or shape of some of the layer(s)/ejecta that are generally unique and deserve separate morphological classification. Examples are illustrated in Appendix C. Column format is variable‐width, string.\n",
    "\n",
    "[108] MORPHOLOGY_EJECTA_COMMENTS Notes or comments about the ejecta or possible ejecta if it was ambiguous. Column format is variable‐width, string.\n",
    "\n",
    "[109] PRESERVATION_STATE An integer 1–4 that describes how fresh or degraded a crater is. Values are defined in section 4.4. Column format is 1‐digit integer.\n",
    "\n",
    "[110] CONFIDENCE_IMPACT_CRATER In some cases, a partial circular depression was identified as a crater, but we are not certain it is a crater. This column is a subjective certainty from 1 to 4 that the crater is really a crater (1 would be not very confident, 2 is equal chance it may or may not be, 3 is that it very likely is an impact crater, and 4 would be a definite crater). Column format is 1‐digit integer.\n",
    "\n",
    "[111] LAYER_[1, 2, 3, 4, 5]_PERIMETER Perimeter of the manually determined N‐dimensional irregular polyline of the layer. Units are km. Column format is variable‐width, decimal to the hundredths place.\n",
    "\n",
    "[112] LAYER_[1, 2, 3, 4, 5]_AREA Area of the manually determined N‐dimensional irregular polyline of the layer. This is with the area within the crater's rim removed. Units are km2. Column format is variable‐width, decimal to the hundredths place.\n",
    "\n",
    "[113] LAYER_[1, 2, 3, 4, 5]_LOBATENESS Abbreviated as Γ. Gives a measure of the lobateness [Bridges and Barlow, 1989]. Defined as [perimeter of ejecta]/SQRT(4·π·[area of ejecta]), which is effectively the percent difference of the perimeter of the flow versus the perimeter of a perfect circle with the equivalent flow area. Unitless. Column format is variable‐width, decimal to the hundredths place.\n",
    "\n",
    "[114] Note 1: The area of the crater itself IS included in this calculation.\n",
    "\n",
    "[115] Note 2: In this calculation, local spherical effects were NOT taken into account.\n",
    "\n",
    "[116] LAYER_[1, 2, 3, 4, 5]_EJECTARADIUS_EQUIV The radius to which the crater's ejecta would extent if it were a circle with the same area as LAYER_[1, 2, 3, 4, 5]_AREA. Column format is variable‐width, decimal to the hundredths place.\n",
    "\n",
    "[117] LAYER_[1, 2, 3, 4, 5]_EJECTARADIUS_RELATIVE The relative radius to which the crater's ejecta would extent if it were a circle with the same area as LOBE_[1, 2, 3, 4, 5]_AREA. Calculated by: LAYER_[1, 2, 3, 4, 5]_EJECTARADIUS_EQUIV/DIAMETER_CIRCLE_IMAGE. Column format is variable‐width, decimal to the hundredths place.\n",
    "\n",
    "[118] CRATER_NAME Drawn from the USGS's online Gazetteer of Planetary Nomenclature, maintained by Jennifer Blue (http://planetarynames.wr.usgs.gov/). Column format is variable‐width string.\n"
   ]
  },
  {
   "cell_type": "code",
   "execution_count": 25,
   "metadata": {},
   "outputs": [],
   "source": [
    "import os\n",
    "import numpy as np\n",
    "import pandas as pd\n",
    "import matplotlib.pyplot as plt"
   ]
  },
  {
   "cell_type": "code",
   "execution_count": 3,
   "metadata": {},
   "outputs": [],
   "source": [
    "database = os.path.join('/work/nilscp/data/Mars/craters','RobbinsCraters_20121016.tsv')"
   ]
  },
  {
   "cell_type": "code",
   "execution_count": 4,
   "metadata": {},
   "outputs": [
    {
     "name": "stderr",
     "output_type": "stream",
     "text": [
      "/work/nilscp/anaconda3/envs/iSALE/lib/python2.7/site-packages/IPython/core/interactiveshell.py:2714: DtypeWarning: Columns (35,36,37,38,39,40,41,69) have mixed types. Specify dtype option on import or set low_memory=False.\n",
      "  interactivity=interactivity, compiler=compiler, result=result)\n"
     ]
    }
   ],
   "source": [
    "data = pd.read_csv(database, sep='\\t')"
   ]
  },
  {
   "cell_type": "code",
   "execution_count": 5,
   "metadata": {},
   "outputs": [
    {
     "data": {
      "text/html": [
       "<div>\n",
       "<style scoped>\n",
       "    .dataframe tbody tr th:only-of-type {\n",
       "        vertical-align: middle;\n",
       "    }\n",
       "\n",
       "    .dataframe tbody tr th {\n",
       "        vertical-align: top;\n",
       "    }\n",
       "\n",
       "    .dataframe thead th {\n",
       "        text-align: right;\n",
       "    }\n",
       "</style>\n",
       "<table border=\"1\" class=\"dataframe\">\n",
       "  <thead>\n",
       "    <tr style=\"text-align: right;\">\n",
       "      <th></th>\n",
       "      <th>CRATER_ID</th>\n",
       "      <th>LATITUDE_CIRCLE_IMAGE</th>\n",
       "      <th>LONGITUDE_CIRCLE_IMAGE</th>\n",
       "      <th>LATITUDE_ELLIPSE_IMAGE</th>\n",
       "      <th>LONGITUDE_ELLIPSE_IMAGE</th>\n",
       "      <th>DIAM_CIRCLE_IMAGE</th>\n",
       "      <th>DIAM_CIRCLE_SD_IMAGE</th>\n",
       "      <th>DIAM_ELLIPSE_MAJOR_IMAGE</th>\n",
       "      <th>DIAM_ELLIPSE_MINOR_IMAGE</th>\n",
       "      <th>DIAM_ELLIPSE_ECCEN_IMAGE</th>\n",
       "      <th>...</th>\n",
       "      <th>LAYER_4_AREA</th>\n",
       "      <th>LAYER_4_LOBATENESS</th>\n",
       "      <th>LAYER_4_EJECTARAD_EQUIV</th>\n",
       "      <th>LAYER_4_EJECTARAD_REL</th>\n",
       "      <th>LAYER_5_PERIMETER</th>\n",
       "      <th>LAYER_5_AREA</th>\n",
       "      <th>LAYER_5_LOBATENESS</th>\n",
       "      <th>LAYER_5_EJECTARAD_EQUIV</th>\n",
       "      <th>LAYER_5_EJECTARAD_REL</th>\n",
       "      <th>CRATER_NAME</th>\n",
       "    </tr>\n",
       "  </thead>\n",
       "  <tbody>\n",
       "    <tr>\n",
       "      <th>0</th>\n",
       "      <td>01-000000</td>\n",
       "      <td>84.367</td>\n",
       "      <td>108.746</td>\n",
       "      <td>84.750</td>\n",
       "      <td>108.663</td>\n",
       "      <td>82.10</td>\n",
       "      <td>0.26</td>\n",
       "      <td>82.97</td>\n",
       "      <td>69.43</td>\n",
       "      <td>0.55</td>\n",
       "      <td>...</td>\n",
       "      <td>NaN</td>\n",
       "      <td>NaN</td>\n",
       "      <td>NaN</td>\n",
       "      <td>NaN</td>\n",
       "      <td>NaN</td>\n",
       "      <td>NaN</td>\n",
       "      <td>NaN</td>\n",
       "      <td>NaN</td>\n",
       "      <td>NaN</td>\n",
       "      <td>NaN</td>\n",
       "    </tr>\n",
       "    <tr>\n",
       "      <th>1</th>\n",
       "      <td>01-000001</td>\n",
       "      <td>72.760</td>\n",
       "      <td>164.464</td>\n",
       "      <td>72.784</td>\n",
       "      <td>164.464</td>\n",
       "      <td>82.02</td>\n",
       "      <td>0.09</td>\n",
       "      <td>84.17</td>\n",
       "      <td>79.91</td>\n",
       "      <td>0.31</td>\n",
       "      <td>...</td>\n",
       "      <td>NaN</td>\n",
       "      <td>NaN</td>\n",
       "      <td>NaN</td>\n",
       "      <td>NaN</td>\n",
       "      <td>NaN</td>\n",
       "      <td>NaN</td>\n",
       "      <td>NaN</td>\n",
       "      <td>NaN</td>\n",
       "      <td>NaN</td>\n",
       "      <td>Korolev</td>\n",
       "    </tr>\n",
       "    <tr>\n",
       "      <th>2</th>\n",
       "      <td>01-000002</td>\n",
       "      <td>69.244</td>\n",
       "      <td>-27.240</td>\n",
       "      <td>69.241</td>\n",
       "      <td>-27.235</td>\n",
       "      <td>79.63</td>\n",
       "      <td>NaN</td>\n",
       "      <td>84.36</td>\n",
       "      <td>75.28</td>\n",
       "      <td>0.45</td>\n",
       "      <td>...</td>\n",
       "      <td>NaN</td>\n",
       "      <td>NaN</td>\n",
       "      <td>NaN</td>\n",
       "      <td>NaN</td>\n",
       "      <td>NaN</td>\n",
       "      <td>NaN</td>\n",
       "      <td>NaN</td>\n",
       "      <td>NaN</td>\n",
       "      <td>NaN</td>\n",
       "      <td>NaN</td>\n",
       "    </tr>\n",
       "    <tr>\n",
       "      <th>3</th>\n",
       "      <td>01-000003</td>\n",
       "      <td>70.107</td>\n",
       "      <td>160.575</td>\n",
       "      <td>70.151</td>\n",
       "      <td>160.575</td>\n",
       "      <td>74.81</td>\n",
       "      <td>0.05</td>\n",
       "      <td>75.12</td>\n",
       "      <td>74.58</td>\n",
       "      <td>0.12</td>\n",
       "      <td>...</td>\n",
       "      <td>NaN</td>\n",
       "      <td>NaN</td>\n",
       "      <td>NaN</td>\n",
       "      <td>NaN</td>\n",
       "      <td>NaN</td>\n",
       "      <td>NaN</td>\n",
       "      <td>NaN</td>\n",
       "      <td>NaN</td>\n",
       "      <td>NaN</td>\n",
       "      <td>NaN</td>\n",
       "    </tr>\n",
       "    <tr>\n",
       "      <th>4</th>\n",
       "      <td>01-000004</td>\n",
       "      <td>77.996</td>\n",
       "      <td>95.617</td>\n",
       "      <td>77.998</td>\n",
       "      <td>95.615</td>\n",
       "      <td>73.53</td>\n",
       "      <td>0.23</td>\n",
       "      <td>77.28</td>\n",
       "      <td>70.13</td>\n",
       "      <td>0.42</td>\n",
       "      <td>...</td>\n",
       "      <td>NaN</td>\n",
       "      <td>NaN</td>\n",
       "      <td>NaN</td>\n",
       "      <td>NaN</td>\n",
       "      <td>NaN</td>\n",
       "      <td>NaN</td>\n",
       "      <td>NaN</td>\n",
       "      <td>NaN</td>\n",
       "      <td>NaN</td>\n",
       "      <td>NaN</td>\n",
       "    </tr>\n",
       "  </tbody>\n",
       "</table>\n",
       "<p>5 rows × 70 columns</p>\n",
       "</div>"
      ],
      "text/plain": [
       "   CRATER_ID  LATITUDE_CIRCLE_IMAGE  LONGITUDE_CIRCLE_IMAGE  \\\n",
       "0  01-000000                 84.367                 108.746   \n",
       "1  01-000001                 72.760                 164.464   \n",
       "2  01-000002                 69.244                 -27.240   \n",
       "3  01-000003                 70.107                 160.575   \n",
       "4  01-000004                 77.996                  95.617   \n",
       "\n",
       "   LATITUDE_ELLIPSE_IMAGE  LONGITUDE_ELLIPSE_IMAGE  DIAM_CIRCLE_IMAGE  \\\n",
       "0                  84.750                  108.663              82.10   \n",
       "1                  72.784                  164.464              82.02   \n",
       "2                  69.241                  -27.235              79.63   \n",
       "3                  70.151                  160.575              74.81   \n",
       "4                  77.998                   95.615              73.53   \n",
       "\n",
       "   DIAM_CIRCLE_SD_IMAGE  DIAM_ELLIPSE_MAJOR_IMAGE  DIAM_ELLIPSE_MINOR_IMAGE  \\\n",
       "0                  0.26                     82.97                     69.43   \n",
       "1                  0.09                     84.17                     79.91   \n",
       "2                   NaN                     84.36                     75.28   \n",
       "3                  0.05                     75.12                     74.58   \n",
       "4                  0.23                     77.28                     70.13   \n",
       "\n",
       "   DIAM_ELLIPSE_ECCEN_IMAGE  ...  LAYER_4_AREA  LAYER_4_LOBATENESS  \\\n",
       "0                      0.55  ...           NaN                 NaN   \n",
       "1                      0.31  ...           NaN                 NaN   \n",
       "2                      0.45  ...           NaN                 NaN   \n",
       "3                      0.12  ...           NaN                 NaN   \n",
       "4                      0.42  ...           NaN                 NaN   \n",
       "\n",
       "   LAYER_4_EJECTARAD_EQUIV  LAYER_4_EJECTARAD_REL  LAYER_5_PERIMETER  \\\n",
       "0                      NaN                    NaN                NaN   \n",
       "1                      NaN                    NaN                NaN   \n",
       "2                      NaN                    NaN                NaN   \n",
       "3                      NaN                    NaN                NaN   \n",
       "4                      NaN                    NaN                NaN   \n",
       "\n",
       "   LAYER_5_AREA  LAYER_5_LOBATENESS  LAYER_5_EJECTARAD_EQUIV  \\\n",
       "0           NaN                 NaN                      NaN   \n",
       "1           NaN                 NaN                      NaN   \n",
       "2           NaN                 NaN                      NaN   \n",
       "3           NaN                 NaN                      NaN   \n",
       "4           NaN                 NaN                      NaN   \n",
       "\n",
       "   LAYER_5_EJECTARAD_REL  CRATER_NAME  \n",
       "0                    NaN          NaN  \n",
       "1                    NaN      Korolev  \n",
       "2                    NaN          NaN  \n",
       "3                    NaN          NaN  \n",
       "4                    NaN          NaN  \n",
       "\n",
       "[5 rows x 70 columns]"
      ]
     },
     "execution_count": 5,
     "metadata": {},
     "output_type": "execute_result"
    }
   ],
   "source": [
    "data.head()"
   ]
  },
  {
   "cell_type": "code",
   "execution_count": 8,
   "metadata": {},
   "outputs": [
    {
     "data": {
      "text/plain": [
       "Index([u'CRATER_ID', u'LATITUDE_CIRCLE_IMAGE', u'LONGITUDE_CIRCLE_IMAGE',\n",
       "       u'LATITUDE_ELLIPSE_IMAGE', u'LONGITUDE_ELLIPSE_IMAGE',\n",
       "       u'DIAM_CIRCLE_IMAGE', u'DIAM_CIRCLE_SD_IMAGE',\n",
       "       u'DIAM_ELLIPSE_MAJOR_IMAGE', u'DIAM_ELLIPSE_MINOR_IMAGE',\n",
       "       u'DIAM_ELLIPSE_ECCEN_IMAGE', u'DIAM_ELLIPSE_ELLIP_IMAGE',\n",
       "       u'DIAM_ELLIPSE_ANGLE_IMAGE', u'LATITUDE_CIRCLE_TOPOG',\n",
       "       u'LONGITUDE_CIRCLE_TOPOG', u'DIAM_CIRCLE_TOPOG',\n",
       "       u'DIAM_CIRCLE_SD_TOPOG', u'DEPTH_RIM_TOPOG', u'DEPTH_RIM_SD_TOPOG',\n",
       "       u'DEPTH_SURFACE_TOPOG', u'DEPTH_SURFACE_SD_TOPOG', u'DEPTH_FLOOR_TOPOG',\n",
       "       u'DEPTH_FLOOR_SD_TOPOG', u'DEPTH_RIMFLOOR_TOPOG',\n",
       "       u'DEPTH_RIMHEIGHT_TOPOG', u'DEPTH_SURFFLOOR_TOPOG',\n",
       "       u'PTS_USED_RIM_IMAGE', u'PTS_USED_RIM_TOPOG', u'PTS_USED_SURFACE',\n",
       "       u'PTS_USED_FLOOR', u'PTS_USED_LOBE_1', u'PTS_USED_LOBE_2',\n",
       "       u'PTS_USED_LOBE_3', u'PTS_USED_LOBE_4', u'PTS_USED_LOBE_5',\n",
       "       u'NUMBER_LOBES', u'MORPHOLOGY_CRATER_1', u'MORPHOLOGY_CRATER_2',\n",
       "       u'MORPHOLOGY_CRATER_3', u'MORPHOLOGY_EJECTA_1', u'MORPHOLOGY_EJECTA_2',\n",
       "       u'MORPHOLOGY_EJECTA_3', u'MORPHOLOGY_EJECTA_COMMENTS',\n",
       "       u'DEGRADATION_STATE', u'CONFIDENCE_IMPACT_CRATER', u'LAYER_1_PERIMETER',\n",
       "       u'LAYER_1_AREA', u'LAYER_1_LOBATENESS', u'LAYER_1_EJECTARAD_EQUIV',\n",
       "       u'LAYER_1_EJECTARAD_REL', u'LAYER_2_PERIMETER', u'LAYER_2_AREA',\n",
       "       u'LAYER_2_LOBATENESS', u'LAYER_2_EJECTARAD_EQUIV',\n",
       "       u'LAYER_2_EJECTARAD_REL', u'LAYER_3_PERIMETER', u'LAYER_3_AREA',\n",
       "       u'LAYER_3_LOBATENESS', u'LAYER_3_EJECTARAD_EQUIV',\n",
       "       u'LAYER_3_EJECTARAD_REL', u'LAYER_4_PERIMETER', u'LAYER_4_AREA',\n",
       "       u'LAYER_4_LOBATENESS', u'LAYER_4_EJECTARAD_EQUIV',\n",
       "       u'LAYER_4_EJECTARAD_REL', u'LAYER_5_PERIMETER', u'LAYER_5_AREA',\n",
       "       u'LAYER_5_LOBATENESS', u'LAYER_5_EJECTARAD_EQUIV',\n",
       "       u'LAYER_5_EJECTARAD_REL', u'CRATER_NAME'],\n",
       "      dtype='object')"
      ]
     },
     "execution_count": 8,
     "metadata": {},
     "output_type": "execute_result"
    }
   ],
   "source": [
    "data.columns"
   ]
  },
  {
   "cell_type": "markdown",
   "metadata": {},
   "source": [
    "## Filtering of the database based on preservation and crater certainty\n",
    "'DEGRADATION_STATE' <br>\n",
    "'CONFIDENCE_IMPACT_CRATER'"
   ]
  },
  {
   "cell_type": "code",
   "execution_count": 15,
   "metadata": {},
   "outputs": [
    {
     "data": {
      "text/plain": [
       "((384345, 70), (27701, 70), (6308, 70))"
      ]
     },
     "execution_count": 15,
     "metadata": {},
     "output_type": "execute_result"
    }
   ],
   "source": [
    "# filtering the data (SLDEM 2015)\n",
    "tmp1 = data[data.DEGRADATION_STATE >= 3.0]\n",
    "data_filtered = tmp1[tmp1.CONFIDENCE_IMPACT_CRATER == 4.0]\n",
    "del tmp1\n",
    "\n",
    "data_filtered_only_vfresh = data_filtered[data_filtered.DEGRADATION_STATE == 4.0]\n",
    "\n",
    "np.shape(data), np.shape(data_filtered), np.shape(data_filtered_only_vfresh)"
   ]
  },
  {
   "cell_type": "markdown",
   "metadata": {},
   "source": [
    "## Let's check at the distribution of impact crater diameters in functions of the crater diameter"
   ]
  },
  {
   "cell_type": "code",
   "execution_count": 18,
   "metadata": {},
   "outputs": [
    {
     "data": {
      "text/plain": [
       "(2.68, 63.1)"
      ]
     },
     "execution_count": 18,
     "metadata": {},
     "output_type": "execute_result"
    }
   ],
   "source": [
    "np.min(data_filtered_only_vfresh.DIAM_CIRCLE_IMAGE), np.max(data_filtered_only_vfresh.DIAM_CIRCLE_IMAGE)"
   ]
  },
  {
   "cell_type": "code",
   "execution_count": 20,
   "metadata": {},
   "outputs": [
    {
     "data": {
      "text/plain": [
       "array([ 2.,  4.,  6.,  8., 10., 12., 14., 16., 18., 20., 22., 24., 26.,\n",
       "       28., 30., 32., 34., 36., 38., 40., 42., 44., 46., 48., 50., 52.,\n",
       "       54., 56., 58., 60., 62., 64.])"
      ]
     },
     "execution_count": 20,
     "metadata": {},
     "output_type": "execute_result"
    }
   ],
   "source": [
    "x_bins = np.arange(2.0,65.0,2.0)\n",
    "\n",
    "x_bins"
   ]
  },
  {
   "cell_type": "code",
   "execution_count": 23,
   "metadata": {},
   "outputs": [
    {
     "name": "stderr",
     "output_type": "stream",
     "text": [
      "/work/nilscp/anaconda3/envs/iSALE/lib/python2.7/site-packages/ipykernel_launcher.py:1: SettingWithCopyWarning: \n",
      "A value is trying to be set on a copy of a slice from a DataFrame.\n",
      "Try using .loc[row_indexer,col_indexer] = value instead\n",
      "\n",
      "See the caveats in the documentation: http://pandas.pydata.org/pandas-docs/stable/indexing.html#indexing-view-versus-copy\n",
      "  \"\"\"Entry point for launching an IPython kernel.\n"
     ]
    }
   ],
   "source": [
    "data_filtered_only_vfresh['xbins'] = pd.cut(data_filtered_only_vfresh['DIAM_CIRCLE_IMAGE'], bins=x_bins)"
   ]
  },
  {
   "cell_type": "code",
   "execution_count": 24,
   "metadata": {},
   "outputs": [
    {
     "data": {
      "text/plain": [
       "array([2626, 1853,  850,  393,  218,  112,   71,   47,   34,   31,   15,\n",
       "         12,   12,    7,    5,    4,    3,    3,    3,    2,    1,    1,\n",
       "          1,    1,    1,    1,    1,    0,    0,    0,    0])"
      ]
     },
     "execution_count": 24,
     "metadata": {},
     "output_type": "execute_result"
    }
   ],
   "source": [
    "nobs = data_filtered_only_vfresh['xbins'].value_counts().values\n",
    "nobs"
   ]
  },
  {
   "cell_type": "code",
   "execution_count": 29,
   "metadata": {},
   "outputs": [
    {
     "data": {
      "text/plain": [
       "(20    (44.0, 46.0]\n",
       " 26    (36.0, 38.0]\n",
       " 70    (20.0, 22.0]\n",
       " 75    (20.0, 22.0]\n",
       " 79    (20.0, 22.0]\n",
       " Name: xbins, dtype: category\n",
       " Categories (31, interval[float64]): [(2.0, 4.0] < (4.0, 6.0] < (6.0, 8.0] < (8.0, 10.0] ... (56.0, 58.0] < (58.0, 60.0] < (60.0, 62.0] < (62.0, 64.0]],\n",
       " 20    45.71\n",
       " 26    36.85\n",
       " 70    21.71\n",
       " 75    21.02\n",
       " 79    20.68\n",
       " Name: DIAM_CIRCLE_IMAGE, dtype: float64)"
      ]
     },
     "execution_count": 29,
     "metadata": {},
     "output_type": "execute_result"
    }
   ],
   "source": [
    "data_filtered_only_vfresh['xbins'][0:5], data_filtered_only_vfresh['DIAM_CIRCLE_IMAGE'][0:5]"
   ]
  },
  {
   "cell_type": "code",
   "execution_count": 28,
   "metadata": {},
   "outputs": [
    {
     "data": {
      "text/plain": [
       "((31,), (32,))"
      ]
     },
     "execution_count": 28,
     "metadata": {},
     "output_type": "execute_result"
    }
   ],
   "source": [
    "np.shape(nobs), np.shape(x_bins)"
   ]
  },
  {
   "cell_type": "code",
   "execution_count": 30,
   "metadata": {},
   "outputs": [
    {
     "data": {
      "text/plain": [
       "[<matplotlib.lines.Line2D at 0x7f057a061f10>]"
      ]
     },
     "execution_count": 30,
     "metadata": {},
     "output_type": "execute_result"
    },
    {
     "data": {
      "image/png": "[encoded data removed]",
      "text/plain": [
       "<Figure size 432x288 with 1 Axes>"
      ]
     },
     "metadata": {
      "needs_background": "light"
     },
     "output_type": "display_data"
    }
   ],
   "source": [
    "plt.plot(x_bins[:-1], nobs, 'ro')"
   ]
  },
  {
   "cell_type": "markdown",
   "metadata": {},
   "source": [
    "## Save the new database to a tsv file again...\n",
    "so that it can be imported in arcGIS"
   ]
  },
  {
   "cell_type": "code",
   "execution_count": 31,
   "metadata": {},
   "outputs": [
    {
     "data": {
      "text/plain": [
       "6640.0"
      ]
     },
     "execution_count": 31,
     "metadata": {},
     "output_type": "execute_result"
    }
   ],
   "source": [
    "166*40."
   ]
  }
 ],
 "metadata": {
  "kernelspec": {
   "display_name": "Python 2",
   "language": "python",
   "name": "python2"
  },
  "language_info": {
   "codemirror_mode": {
    "name": "ipython",
    "version": 2
   },
   "file_extension": ".py",
   "mimetype": "text/x-python",
   "name": "python",
   "nbconvert_exporter": "python",
   "pygments_lexer": "ipython2",
   "version": "2.7.16"
  }
 },
 "nbformat": 4,
 "nbformat_minor": 2
}
